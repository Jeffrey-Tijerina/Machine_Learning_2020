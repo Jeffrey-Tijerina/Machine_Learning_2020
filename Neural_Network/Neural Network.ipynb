{
 "cells": [
  {
   "cell_type": "markdown",
   "metadata": {},
   "source": [
    "##  No Hidden layers"
   ]
  },
  {
   "cell_type": "code",
   "execution_count": 2,
   "metadata": {},
   "outputs": [],
   "source": [
    "import numpy as np"
   ]
  },
  {
   "cell_type": "code",
   "execution_count": 63,
   "metadata": {},
   "outputs": [
    {
     "data": {
      "text/plain": [
       "((4, 2), (4, 1))"
      ]
     },
     "execution_count": 63,
     "metadata": {},
     "output_type": "execute_result"
    }
   ],
   "source": [
    "X = np.array([[0,0],[0,1],[1,0],[1,1]])\n",
    "Y = np.array([[0,0,0,1]]).T\n",
    "X.shape,Y.shape"
   ]
  },
  {
   "cell_type": "code",
   "execution_count": 7,
   "metadata": {},
   "outputs": [],
   "source": [
    "def sig(z):\n",
    "    return 1/(1+np.exp(-z))"
   ]
  },
  {
   "cell_type": "code",
   "execution_count": 17,
   "metadata": {},
   "outputs": [],
   "source": [
    "def derivativeSig(z):\n",
    "    return sig(z)*(1-sig(z))"
   ]
  },
  {
   "cell_type": "code",
   "execution_count": 42,
   "metadata": {},
   "outputs": [
    {
     "data": {
      "text/plain": [
       "(array([[ 0.19225879],\n",
       "        [-0.68617919]]), array([-0.94748922]))"
      ]
     },
     "execution_count": 42,
     "metadata": {},
     "output_type": "execute_result"
    }
   ],
   "source": [
    "#no hidden layer\n",
    "# weights = 2 * np.random.random((2,1)) - 1\n",
    "# bais = 2 * np.random.random(1) - 1\n",
    "# lr = 0.01\n",
    "# weights,bais"
   ]
  },
  {
   "cell_type": "code",
   "execution_count": 72,
   "metadata": {},
   "outputs": [
    {
     "data": {
      "text/plain": [
       "(array([[ 0.83508785],\n",
       "        [-0.48865845]]), array([-0.34629789]))"
      ]
     },
     "execution_count": 72,
     "metadata": {},
     "output_type": "execute_result"
    }
   ],
   "source": [
    "weights = 2* np.random.random((2, 1)) - 1\n",
    "bias = 2 * np.random.random(1) - 1\n",
    "lr = 0.1\n",
    "weights, bias"
   ]
  },
  {
   "cell_type": "code",
   "execution_count": 78,
   "metadata": {},
   "outputs": [
    {
     "data": {
      "text/plain": [
       "(array([[6.55847355],\n",
       "        [6.55847355]]), array([-10.68602841]), array([[2.28616145e-05],\n",
       "        [1.58664489e-02],\n",
       "        [1.58664489e-02],\n",
       "        [9.19154826e-01]]))"
      ]
     },
     "execution_count": 78,
     "metadata": {},
     "output_type": "execute_result"
    }
   ],
   "source": [
    "#no hidden layer\n",
    "for iter in range(10000):\n",
    "    output0 = X\n",
    "    output = sig(np.dot(output0,weights)+bias)\n",
    "\n",
    "\n",
    "    first_term = output-Y\n",
    "    input_for_the_last_layer = np.dot(output0,weights)+bais\n",
    "    second_term = DerivativeSig(input_for_the_last_layer)\n",
    "    first_two = first_term * second_term\n",
    "    \n",
    "    first_two.shape\n",
    "    changes = np.array([[0.0],[0.0]])\n",
    "\n",
    "    for i in range(2):\n",
    "        for j in  range(4):\n",
    "            changes[i][0] += first_two[j][0] * output0[j][i]\n",
    "    weights = weights-  lr*changes\n",
    "    bais_change = 0.0\n",
    "    for j in range(4):\n",
    "        bais_change += first_two[j][0] *1\n",
    "    bias = bias - lr*bais_change\n",
    "\n",
    "output = sig(np.dot(X,weights)+bias)\n",
    "weights,bias,output"
   ]
  },
  {
   "cell_type": "code",
   "execution_count": 79,
   "metadata": {},
   "outputs": [
    {
     "data": {
      "text/plain": [
       "(array([[6.50448825],\n",
       "        [6.50448825]]), array([-10.79883995]), array([[2.04227644e-05],\n",
       "        [1.34617243e-02],\n",
       "        [1.34617243e-02],\n",
       "        [9.01156090e-01]]))"
      ]
     },
     "execution_count": 79,
     "metadata": {},
     "output_type": "execute_result"
    }
   ],
   "source": [
    "#no hidden layer\n",
    "for iter in range(10000):\n",
    "    output0 = X\n",
    "    output = sig(np.dot(output0,weights)+bias)\n",
    "\n",
    "\n",
    "    first_term = output-Y\n",
    "    input_for_the_last_layer = np.dot(output0,weights)+bais\n",
    "    second_term = DerivativeSig(input_for_the_last_layer)\n",
    "    first_two = first_term * second_term\n",
    "    \n",
    "    first_two.shape\n",
    "    changes = np.dot(output0.T,first_two)\n",
    "\n",
    "    weights = weights-  lr*changes\n",
    "    bais_change = np.sum(first_two)\n",
    "    bias = bias - lr*bais_change\n",
    "\n",
    "output = sig(np.dot(X,weights)+bias)\n",
    "weights,bias,output"
   ]
  },
  {
   "cell_type": "markdown",
   "metadata": {},
   "source": [
    "## Hidden Layer Neural Network (XOR)"
   ]
  },
  {
   "cell_type": "code",
   "execution_count": 3,
   "metadata": {},
   "outputs": [
    {
     "data": {
      "text/plain": [
       "((4, 2), (4, 1))"
      ]
     },
     "execution_count": 3,
     "metadata": {},
     "output_type": "execute_result"
    }
   ],
   "source": [
    "Xh = np.array([[0,0],[0,1],[1,0],[1,1]])\n",
    "Yh = np.array([[0,1,1,0]]).T\n",
    "Xh.shape,Yh.shape"
   ]
  },
  {
   "cell_type": "code",
   "execution_count": 4,
   "metadata": {},
   "outputs": [],
   "source": [
    "wh = 2*np.random.random((2,2))-1\n",
    "bh = 2*np.random.random((1,2))-1\n",
    "wo = 2*np.random.random((2,1))-1\n",
    "bo = 2*np.random.random((1,1)) -1\n",
    "lr = 0.1"
   ]
  },
  {
   "cell_type": "code",
   "execution_count": 20,
   "metadata": {},
   "outputs": [
    {
     "data": {
      "text/plain": [
       "(array([[0.04218936],\n",
       "        [0.95282516],\n",
       "        [0.95996342],\n",
       "        [0.03735394]]), array([[ 4.91616033,  5.62227738],\n",
       "        [-5.14461895, -5.55010192]]), array([[-2.67450006,  2.85794844]]), array([[ 7.98928045],\n",
       "        [-7.5259943 ]]), array([[3.47979419]]))"
      ]
     },
     "execution_count": 20,
     "metadata": {},
     "output_type": "execute_result"
    }
   ],
   "source": [
    "#forward propagation\n",
    "for iter in range(10000):\n",
    "    output0 =Xh\n",
    "    inputHidden = np.dot(output0,wh)+bh\n",
    "    outputHidden = sig(inputHidden)\n",
    "    inputforOutputLayer = np.dot(outputHidden,wo)+ bo \n",
    "    output = sig(inputforOutputLayer)\n",
    "    output\n",
    "\n",
    "    first_term_for_output_layer = output-Yh\n",
    "    second_term_output_layer = derivativeSig(inputforOutputLayer)\n",
    "    first_two_term_output_layer = first_term_for_output_layer*second_term_output_layer\n",
    "    first_term_hidden_layer = np.dot(first_two_term_output_layer,wo.T)\n",
    "    second_term_hidden_layer = derivativeSig(inputHidden)\n",
    "    first_two_hidden_layer = first_term_hidden_layer*second_term_hidden_layer\n",
    "\n",
    "    changes_output = np.dot(outputHidden.T,first_two_term_output_layer)\n",
    "    changes_output_bias = np.sum(first_two_term_output_layer,axis=0,keepdims=True)\n",
    "\n",
    "    changes_hidden = np.dot(output0.T,first_two_hidden_layer)\n",
    "    changes_hidden_bias = np.sum(first_two_hidden_layer,axis=0,keepdims=True)\n",
    "\n",
    "    wo = wo-lr*changes_output\n",
    "    bo = bo-lr*changes_output_bias\n",
    "\n",
    "    wh = wh - lr*changes_hidden\n",
    "    bh = bh - lr*changes_hidden_bias\n",
    "output0 =Xh\n",
    "inputHidden = np.dot(output0,wh)+bh\n",
    "outputHidden = sig(inputHidden)\n",
    "inputforOutputLayer = np.dot(outputHidden,wo)+ bo \n",
    "output = sig(inputforOutputLayer)\n",
    "output,wh,bh,wo,bo"
   ]
  },
  {
   "cell_type": "code",
   "execution_count": null,
   "metadata": {},
   "outputs": [],
   "source": []
  }
 ],
 "metadata": {
  "kernelspec": {
   "display_name": "Python 3",
   "language": "python",
   "name": "python3"
  },
  "language_info": {
   "codemirror_mode": {
    "name": "ipython",
    "version": 3
   },
   "file_extension": ".py",
   "mimetype": "text/x-python",
   "name": "python",
   "nbconvert_exporter": "python",
   "pygments_lexer": "ipython3",
   "version": "3.7.3"
  }
 },
 "nbformat": 4,
 "nbformat_minor": 2
}
