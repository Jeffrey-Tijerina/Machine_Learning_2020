{
 "cells": [
  {
   "cell_type": "markdown",
   "metadata": {},
   "source": [
    "**Perceptron Model**"
   ]
  },
  {
   "cell_type": "code",
   "execution_count": 33,
   "metadata": {},
   "outputs": [],
   "source": [
    "using CSV\n",
    "using Plots"
   ]
  },
  {
   "cell_type": "code",
   "execution_count": 34,
   "metadata": {
    "scrolled": false
   },
   "outputs": [
    {
     "name": "stderr",
     "output_type": "stream",
     "text": [
      "┌ Warning: `getindex(df::DataFrame, col_ind::ColumnIndex)` is deprecated, use `df[!, col_ind]` instead.\n",
      "│   caller = top-level scope at In[34]:2\n",
      "└ @ Core In[34]:2\n",
      "┌ Warning: `getindex(df::DataFrame, col_ind::ColumnIndex)` is deprecated, use `df[!, col_ind]` instead.\n",
      "│   caller = top-level scope at In[34]:2\n",
      "└ @ Core In[34]:2\n",
      "┌ Warning: `getindex(df::DataFrame, col_ind::ColumnIndex)` is deprecated, use `df[!, col_ind]` instead.\n",
      "│   caller = top-level scope at In[34]:2\n",
      "└ @ Core In[34]:2\n"
     ]
    },
    {
     "data": {
      "text/plain": [
       "1-element Array{Float64,1}:\n",
       " 0.17362375185129175"
      ]
     },
     "execution_count": 34,
     "metadata": {},
     "output_type": "execute_result"
    }
   ],
   "source": [
    "iris_dat = CSV.read(\"iris_data.csv\")\n",
    "data = [x for x in zip(iris_dat[1],iris_dat[2],iris_dat[5])]\n",
    "weights = rand(1)"
   ]
  },
  {
   "cell_type": "markdown",
   "metadata": {},
   "source": [
    "**The Sigmoid Function**\n",
    "the calculation returns the sum of dot products of the provided x inputs and weights"
   ]
  },
  {
   "cell_type": "code",
   "execution_count": 35,
   "metadata": {},
   "outputs": [
    {
     "data": {
      "text/plain": [
       "z (generic function with 1 method)"
      ]
     },
     "execution_count": 35,
     "metadata": {},
     "output_type": "execute_result"
    }
   ],
   "source": [
    "function z(input,weights)\n",
    "    input = collect(input[1:2])\n",
    "    inputs = [1, input[1],input[2]]\n",
    "    return weights'*inputs\n",
    "end"
   ]
  },
  {
   "cell_type": "code",
   "execution_count": 36,
   "metadata": {
    "scrolled": true
   },
   "outputs": [
    {
     "ename": "DimensionMismatch",
     "evalue": "DimensionMismatch(\"dot product arguments have lengths 1 and 3\")",
     "output_type": "error",
     "traceback": [
      "DimensionMismatch(\"dot product arguments have lengths 1 and 3\")",
      "",
      "Stacktrace:",
      " [1] dot(::Array{Float64,1}, ::Array{Float64,1}) at D:\\buildbot\\worker\\package_win64\\build\\usr\\share\\julia\\stdlib\\v1.3\\LinearAlgebra\\src\\blas.jl:333",
      " [2] dot at D:\\buildbot\\worker\\package_win64\\build\\usr\\share\\julia\\stdlib\\v1.3\\LinearAlgebra\\src\\matmul.jl:9 [inlined]",
      " [3] *(::LinearAlgebra.Adjoint{Float64,Array{Float64,1}}, ::Array{Float64,1}) at D:\\buildbot\\worker\\package_win64\\build\\usr\\share\\julia\\stdlib\\v1.3\\LinearAlgebra\\src\\adjtrans.jl:245",
      " [4] z(::Tuple{Float64,Float64,String}, ::Array{Float64,1}) at .\\In[35]:4",
      " [5] top-level scope at In[36]:1"
     ]
    }
   ],
   "source": [
    "z(data[1],weights)"
   ]
  },
  {
   "cell_type": "code",
   "execution_count": 37,
   "metadata": {},
   "outputs": [
    {
     "data": {
      "text/plain": [
       "actual_class (generic function with 1 method)"
      ]
     },
     "execution_count": 37,
     "metadata": {},
     "output_type": "execute_result"
    }
   ],
   "source": [
    "function actual_class(input)\n",
    "    return input[3]==\"setosa\" ? 1 : 0\n",
    "end"
   ]
  },
  {
   "cell_type": "markdown",
   "metadata": {},
   "source": [
    "We have a iterate the adjusted weights depending on their classification (either right or wrong). This weight will be adjusted up or down, respectively."
   ]
  },
  {
   "cell_type": "code",
   "execution_count": 38,
   "metadata": {},
   "outputs": [
    {
     "ename": "DimensionMismatch",
     "evalue": "DimensionMismatch(\"dot product arguments have lengths 1 and 3\")",
     "output_type": "error",
     "traceback": [
      "DimensionMismatch(\"dot product arguments have lengths 1 and 3\")",
      "",
      "Stacktrace:",
      " [1] dot(::Array{Float64,1}, ::Array{Float64,1}) at D:\\buildbot\\worker\\package_win64\\build\\usr\\share\\julia\\stdlib\\v1.3\\LinearAlgebra\\src\\blas.jl:333",
      " [2] dot at D:\\buildbot\\worker\\package_win64\\build\\usr\\share\\julia\\stdlib\\v1.3\\LinearAlgebra\\src\\matmul.jl:9 [inlined]",
      " [3] *(::LinearAlgebra.Adjoint{Float64,Array{Float64,1}}, ::Array{Float64,1}) at D:\\buildbot\\worker\\package_win64\\build\\usr\\share\\julia\\stdlib\\v1.3\\LinearAlgebra\\src\\adjtrans.jl:245",
      " [4] z(::Tuple{Float64,Float64,String}, ::Array{Float64,1}) at .\\In[35]:4",
      " [5] top-level scope at .\\In[38]:4"
     ]
    }
   ],
   "source": [
    "N = 1000000\n",
    "for i in 1:N\n",
    "    rand_iris = data[rand(1:150)]\n",
    "    if actual_class(rand_iris)==1 && z(rand_iris,weights) < 0\n",
    "        weights = weights + [1, rand_iris[1], rand_iris[2]]\n",
    "    elseif actual_class(rand_iris)==0 && z(rand_iris,weights) >= 0\n",
    "        weights = weights - [1, rand_iris[1], rand_iris[2]]\n",
    "    end\n",
    "end"
   ]
  },
  {
   "cell_type": "code",
   "execution_count": 39,
   "metadata": {
    "scrolled": false
   },
   "outputs": [
    {
     "data": {
      "text/plain": [
       "1-element Array{Float64,1}:\n",
       " 0.17362375185129175"
      ]
     },
     "execution_count": 39,
     "metadata": {},
     "output_type": "execute_result"
    }
   ],
   "source": [
    "weights"
   ]
  },
  {
   "cell_type": "code",
   "execution_count": 40,
   "metadata": {},
   "outputs": [
    {
     "data": {
      "text/plain": [
       "predictor (generic function with 1 method)"
      ]
     },
     "execution_count": 40,
     "metadata": {},
     "output_type": "execute_result"
    }
   ],
   "source": [
    "function predictor(input,weights)\n",
    "    input = collect(input[1:2])\n",
    "    inputs = [1, input[1],input[2]]\n",
    "    return weights'*inputs >=0 ? 1 : 0\n",
    "end"
   ]
  },
  {
   "cell_type": "code",
   "execution_count": 41,
   "metadata": {},
   "outputs": [
    {
     "ename": "DimensionMismatch",
     "evalue": "DimensionMismatch(\"dot product arguments have lengths 1 and 3\")",
     "output_type": "error",
     "traceback": [
      "DimensionMismatch(\"dot product arguments have lengths 1 and 3\")",
      "",
      "Stacktrace:",
      " [1] dot(::Array{Float64,1}, ::Array{Float64,1}) at D:\\buildbot\\worker\\package_win64\\build\\usr\\share\\julia\\stdlib\\v1.3\\LinearAlgebra\\src\\blas.jl:333",
      " [2] dot at D:\\buildbot\\worker\\package_win64\\build\\usr\\share\\julia\\stdlib\\v1.3\\LinearAlgebra\\src\\matmul.jl:9 [inlined]",
      " [3] *(::LinearAlgebra.Adjoint{Float64,Array{Float64,1}}, ::Array{Float64,1}) at D:\\buildbot\\worker\\package_win64\\build\\usr\\share\\julia\\stdlib\\v1.3\\LinearAlgebra\\src\\adjtrans.jl:245",
      " [4] predictor(::Tuple{Float64,Float64,String}, ::Array{Float64,1}) at .\\In[40]:4",
      " [5] top-level scope at In[41]:1"
     ]
    }
   ],
   "source": [
    "predictor(data[34],weights)"
   ]
  },
  {
   "cell_type": "code",
   "execution_count": 42,
   "metadata": {},
   "outputs": [
    {
     "ename": "DimensionMismatch",
     "evalue": "DimensionMismatch(\"dot product arguments have lengths 1 and 3\")",
     "output_type": "error",
     "traceback": [
      "DimensionMismatch(\"dot product arguments have lengths 1 and 3\")",
      "",
      "Stacktrace:",
      " [1] dot(::Array{Float64,1}, ::Array{Float64,1}) at D:\\buildbot\\worker\\package_win64\\build\\usr\\share\\julia\\stdlib\\v1.3\\LinearAlgebra\\src\\blas.jl:333",
      " [2] dot at D:\\buildbot\\worker\\package_win64\\build\\usr\\share\\julia\\stdlib\\v1.3\\LinearAlgebra\\src\\matmul.jl:9 [inlined]",
      " [3] *(::LinearAlgebra.Adjoint{Float64,Array{Float64,1}}, ::Array{Float64,1}) at D:\\buildbot\\worker\\package_win64\\build\\usr\\share\\julia\\stdlib\\v1.3\\LinearAlgebra\\src\\adjtrans.jl:245",
      " [4] predictor(::Tuple{Float64,Float64,String}, ::Array{Float64,1}) at .\\In[40]:4",
      " [5] top-level scope at .\\In[42]:4"
     ]
    }
   ],
   "source": [
    "times_right = []\n",
    "for _ in 1:N\n",
    "    rand_iris = data[rand(1:150)]\n",
    "    if predictor(rand_iris,weights)==actual_class(rand_iris)\n",
    "        append!(times_right,1)\n",
    "    end\n",
    "end\n",
    "sum(times_right)/N"
   ]
  },
  {
   "cell_type": "code",
   "execution_count": 43,
   "metadata": {},
   "outputs": [
    {
     "data": {
      "image/svg+xml": [
       "<?xml version=\"1.0\" encoding=\"utf-8\"?>\n",
       "<svg xmlns=\"http://www.w3.org/2000/svg\" xmlns:xlink=\"http://www.w3.org/1999/xlink\" width=\"600\" height=\"400\" viewBox=\"0 0 2400 1600\">\n",
       "<defs>\n",
       "  <clipPath id=\"clip2500\">\n",
       "    <rect x=\"0\" y=\"0\" width=\"2400\" height=\"1600\"/>\n",
       "  </clipPath>\n",
       "</defs>\n",
       "<path clip-path=\"url(#clip2500)\" d=\"\n",
       "M0 1600 L2400 1600 L2400 0 L0 0  Z\n",
       "  \" fill=\"#ffffff\" fill-rule=\"evenodd\" fill-opacity=\"1\"/>\n",
       "<defs>\n",
       "  <clipPath id=\"clip2501\">\n",
       "    <rect x=\"480\" y=\"0\" width=\"1681\" height=\"1600\"/>\n",
       "  </clipPath>\n",
       "</defs>\n",
       "<path clip-path=\"url(#clip2500)\" d=\"\n",
       "M182.008 1487.47 L2352.76 1487.47 L2352.76 47.2441 L182.008 47.2441  Z\n",
       "  \" fill=\"#ffffff\" fill-rule=\"evenodd\" fill-opacity=\"1\"/>\n",
       "<defs>\n",
       "  <clipPath id=\"clip2502\">\n",
       "    <rect x=\"182\" y=\"47\" width=\"2172\" height=\"1441\"/>\n",
       "  </clipPath>\n",
       "</defs>\n",
       "<polyline clip-path=\"url(#clip2502)\" style=\"stroke:#000000; stroke-width:2; stroke-opacity:0.1; fill:none\" points=\"\n",
       "  560.944,1487.47 560.944,47.2441 \n",
       "  \"/>\n",
       "<polyline clip-path=\"url(#clip2502)\" style=\"stroke:#000000; stroke-width:2; stroke-opacity:0.1; fill:none\" points=\"\n",
       "  1037.19,1487.47 1037.19,47.2441 \n",
       "  \"/>\n",
       "<polyline clip-path=\"url(#clip2502)\" style=\"stroke:#000000; stroke-width:2; stroke-opacity:0.1; fill:none\" points=\"\n",
       "  1513.44,1487.47 1513.44,47.2441 \n",
       "  \"/>\n",
       "<polyline clip-path=\"url(#clip2502)\" style=\"stroke:#000000; stroke-width:2; stroke-opacity:0.1; fill:none\" points=\"\n",
       "  1989.69,1487.47 1989.69,47.2441 \n",
       "  \"/>\n",
       "<polyline clip-path=\"url(#clip2502)\" style=\"stroke:#000000; stroke-width:2; stroke-opacity:0.1; fill:none\" points=\"\n",
       "  182.008,1324.57 2352.76,1324.57 \n",
       "  \"/>\n",
       "<polyline clip-path=\"url(#clip2502)\" style=\"stroke:#000000; stroke-width:2; stroke-opacity:0.1; fill:none\" points=\"\n",
       "  182.008,1006.38 2352.76,1006.38 \n",
       "  \"/>\n",
       "<polyline clip-path=\"url(#clip2502)\" style=\"stroke:#000000; stroke-width:2; stroke-opacity:0.1; fill:none\" points=\"\n",
       "  182.008,688.19 2352.76,688.19 \n",
       "  \"/>\n",
       "<polyline clip-path=\"url(#clip2502)\" style=\"stroke:#000000; stroke-width:2; stroke-opacity:0.1; fill:none\" points=\"\n",
       "  182.008,370.002 2352.76,370.002 \n",
       "  \"/>\n",
       "<polyline clip-path=\"url(#clip2502)\" style=\"stroke:#000000; stroke-width:2; stroke-opacity:0.1; fill:none\" points=\"\n",
       "  182.008,51.8135 2352.76,51.8135 \n",
       "  \"/>\n",
       "<polyline clip-path=\"url(#clip2500)\" style=\"stroke:#000000; stroke-width:4; stroke-opacity:1; fill:none\" points=\"\n",
       "  182.008,1487.47 2352.76,1487.47 \n",
       "  \"/>\n",
       "<polyline clip-path=\"url(#clip2500)\" style=\"stroke:#000000; stroke-width:4; stroke-opacity:1; fill:none\" points=\"\n",
       "  182.008,1487.47 182.008,47.2441 \n",
       "  \"/>\n",
       "<polyline clip-path=\"url(#clip2500)\" style=\"stroke:#000000; stroke-width:4; stroke-opacity:1; fill:none\" points=\"\n",
       "  560.944,1487.47 560.944,1470.19 \n",
       "  \"/>\n",
       "<polyline clip-path=\"url(#clip2500)\" style=\"stroke:#000000; stroke-width:4; stroke-opacity:1; fill:none\" points=\"\n",
       "  1037.19,1487.47 1037.19,1470.19 \n",
       "  \"/>\n",
       "<polyline clip-path=\"url(#clip2500)\" style=\"stroke:#000000; stroke-width:4; stroke-opacity:1; fill:none\" points=\"\n",
       "  1513.44,1487.47 1513.44,1470.19 \n",
       "  \"/>\n",
       "<polyline clip-path=\"url(#clip2500)\" style=\"stroke:#000000; stroke-width:4; stroke-opacity:1; fill:none\" points=\"\n",
       "  1989.69,1487.47 1989.69,1470.19 \n",
       "  \"/>\n",
       "<polyline clip-path=\"url(#clip2500)\" style=\"stroke:#000000; stroke-width:4; stroke-opacity:1; fill:none\" points=\"\n",
       "  182.008,1324.57 208.057,1324.57 \n",
       "  \"/>\n",
       "<polyline clip-path=\"url(#clip2500)\" style=\"stroke:#000000; stroke-width:4; stroke-opacity:1; fill:none\" points=\"\n",
       "  182.008,1006.38 208.057,1006.38 \n",
       "  \"/>\n",
       "<polyline clip-path=\"url(#clip2500)\" style=\"stroke:#000000; stroke-width:4; stroke-opacity:1; fill:none\" points=\"\n",
       "  182.008,688.19 208.057,688.19 \n",
       "  \"/>\n",
       "<polyline clip-path=\"url(#clip2500)\" style=\"stroke:#000000; stroke-width:4; stroke-opacity:1; fill:none\" points=\"\n",
       "  182.008,370.002 208.057,370.002 \n",
       "  \"/>\n",
       "<polyline clip-path=\"url(#clip2500)\" style=\"stroke:#000000; stroke-width:4; stroke-opacity:1; fill:none\" points=\"\n",
       "  182.008,51.8135 208.057,51.8135 \n",
       "  \"/>\n",
       "<g clip-path=\"url(#clip2500)\">\n",
       "<text style=\"fill:#000000; fill-opacity:1; font-family:Arial,Helvetica Neue,Helvetica,sans-serif; font-size:48px; text-anchor:middle;\" transform=\"rotate(0, 560.944, 1541.47)\" x=\"560.944\" y=\"1541.47\">-3</text>\n",
       "</g>\n",
       "<g clip-path=\"url(#clip2500)\">\n",
       "<text style=\"fill:#000000; fill-opacity:1; font-family:Arial,Helvetica Neue,Helvetica,sans-serif; font-size:48px; text-anchor:middle;\" transform=\"rotate(0, 1037.19, 1541.47)\" x=\"1037.19\" y=\"1541.47\">0</text>\n",
       "</g>\n",
       "<g clip-path=\"url(#clip2500)\">\n",
       "<text style=\"fill:#000000; fill-opacity:1; font-family:Arial,Helvetica Neue,Helvetica,sans-serif; font-size:48px; text-anchor:middle;\" transform=\"rotate(0, 1513.44, 1541.47)\" x=\"1513.44\" y=\"1541.47\">3</text>\n",
       "</g>\n",
       "<g clip-path=\"url(#clip2500)\">\n",
       "<text style=\"fill:#000000; fill-opacity:1; font-family:Arial,Helvetica Neue,Helvetica,sans-serif; font-size:48px; text-anchor:middle;\" transform=\"rotate(0, 1989.69, 1541.47)\" x=\"1989.69\" y=\"1541.47\">6</text>\n",
       "</g>\n",
       "<g clip-path=\"url(#clip2500)\">\n",
       "<text style=\"fill:#000000; fill-opacity:1; font-family:Arial,Helvetica Neue,Helvetica,sans-serif; font-size:48px; text-anchor:end;\" transform=\"rotate(0, 158.008, 1342.07)\" x=\"158.008\" y=\"1342.07\">-5.0</text>\n",
       "</g>\n",
       "<g clip-path=\"url(#clip2500)\">\n",
       "<text style=\"fill:#000000; fill-opacity:1; font-family:Arial,Helvetica Neue,Helvetica,sans-serif; font-size:48px; text-anchor:end;\" transform=\"rotate(0, 158.008, 1023.88)\" x=\"158.008\" y=\"1023.88\">-2.5</text>\n",
       "</g>\n",
       "<g clip-path=\"url(#clip2500)\">\n",
       "<text style=\"fill:#000000; fill-opacity:1; font-family:Arial,Helvetica Neue,Helvetica,sans-serif; font-size:48px; text-anchor:end;\" transform=\"rotate(0, 158.008, 705.69)\" x=\"158.008\" y=\"705.69\">0.0</text>\n",
       "</g>\n",
       "<g clip-path=\"url(#clip2500)\">\n",
       "<text style=\"fill:#000000; fill-opacity:1; font-family:Arial,Helvetica Neue,Helvetica,sans-serif; font-size:48px; text-anchor:end;\" transform=\"rotate(0, 158.008, 387.502)\" x=\"158.008\" y=\"387.502\">2.5</text>\n",
       "</g>\n",
       "<g clip-path=\"url(#clip2500)\">\n",
       "<text style=\"fill:#000000; fill-opacity:1; font-family:Arial,Helvetica Neue,Helvetica,sans-serif; font-size:48px; text-anchor:end;\" transform=\"rotate(0, 158.008, 69.3135)\" x=\"158.008\" y=\"69.3135\">5.0</text>\n",
       "</g>\n",
       "<polyline clip-path=\"url(#clip2502)\" style=\"stroke:#009af9; stroke-width:4; stroke-opacity:1; fill:none\" points=\"\n",
       "  243.444,88.0053 258.948,101.274 402.297,223.964 488.445,297.696 561.281,360.035 640.402,427.753 713.344,490.183 791.546,557.114 882.151,634.661 962.669,703.575 \n",
       "  1033.28,764.007 1110.26,829.893 1187.7,896.171 1273.32,969.45 1354.78,1039.17 1439.48,1111.67 1510.79,1172.7 1597.84,1247.2 1679.67,1317.24 1810.77,1429.45 \n",
       "  1830.94,1446.71 \n",
       "  \"/>\n",
       "<circle clip-path=\"url(#clip2502)\" style=\"fill:#000000; stroke:none; fill-opacity:1\" cx=\"1846.82\" cy=\"242.727\" r=\"18\"/>\n",
       "<circle clip-path=\"url(#clip2502)\" style=\"fill:#e26f46; stroke:none; fill-opacity:1\" cx=\"1846.82\" cy=\"242.727\" r=\"14\"/>\n",
       "<circle clip-path=\"url(#clip2502)\" style=\"fill:#000000; stroke:none; fill-opacity:1\" cx=\"1815.07\" cy=\"306.364\" r=\"18\"/>\n",
       "<circle clip-path=\"url(#clip2502)\" style=\"fill:#e26f46; stroke:none; fill-opacity:1\" cx=\"1815.07\" cy=\"306.364\" r=\"14\"/>\n",
       "<circle clip-path=\"url(#clip2502)\" style=\"fill:#000000; stroke:none; fill-opacity:1\" cx=\"1783.32\" cy=\"280.909\" r=\"18\"/>\n",
       "<circle clip-path=\"url(#clip2502)\" style=\"fill:#e26f46; stroke:none; fill-opacity:1\" cx=\"1783.32\" cy=\"280.909\" r=\"14\"/>\n",
       "<circle clip-path=\"url(#clip2502)\" style=\"fill:#000000; stroke:none; fill-opacity:1\" cx=\"1767.44\" cy=\"293.637\" r=\"18\"/>\n",
       "<circle clip-path=\"url(#clip2502)\" style=\"fill:#e26f46; stroke:none; fill-opacity:1\" cx=\"1767.44\" cy=\"293.637\" r=\"14\"/>\n",
       "<circle clip-path=\"url(#clip2502)\" style=\"fill:#000000; stroke:none; fill-opacity:1\" cx=\"1830.94\" cy=\"229.999\" r=\"18\"/>\n",
       "<circle clip-path=\"url(#clip2502)\" style=\"fill:#e26f46; stroke:none; fill-opacity:1\" cx=\"1830.94\" cy=\"229.999\" r=\"14\"/>\n",
       "<circle clip-path=\"url(#clip2502)\" style=\"fill:#000000; stroke:none; fill-opacity:1\" cx=\"1894.44\" cy=\"191.816\" r=\"18\"/>\n",
       "<circle clip-path=\"url(#clip2502)\" style=\"fill:#e26f46; stroke:none; fill-opacity:1\" cx=\"1894.44\" cy=\"191.816\" r=\"14\"/>\n",
       "<circle clip-path=\"url(#clip2502)\" style=\"fill:#000000; stroke:none; fill-opacity:1\" cx=\"1767.44\" cy=\"255.454\" r=\"18\"/>\n",
       "<circle clip-path=\"url(#clip2502)\" style=\"fill:#e26f46; stroke:none; fill-opacity:1\" cx=\"1767.44\" cy=\"255.454\" r=\"14\"/>\n",
       "<circle clip-path=\"url(#clip2502)\" style=\"fill:#000000; stroke:none; fill-opacity:1\" cx=\"1830.94\" cy=\"255.454\" r=\"18\"/>\n",
       "<circle clip-path=\"url(#clip2502)\" style=\"fill:#e26f46; stroke:none; fill-opacity:1\" cx=\"1830.94\" cy=\"255.454\" r=\"14\"/>\n",
       "<circle clip-path=\"url(#clip2502)\" style=\"fill:#000000; stroke:none; fill-opacity:1\" cx=\"1735.69\" cy=\"319.092\" r=\"18\"/>\n",
       "<circle clip-path=\"url(#clip2502)\" style=\"fill:#e26f46; stroke:none; fill-opacity:1\" cx=\"1735.69\" cy=\"319.092\" r=\"14\"/>\n",
       "<circle clip-path=\"url(#clip2502)\" style=\"fill:#000000; stroke:none; fill-opacity:1\" cx=\"1815.07\" cy=\"293.637\" r=\"18\"/>\n",
       "<circle clip-path=\"url(#clip2502)\" style=\"fill:#e26f46; stroke:none; fill-opacity:1\" cx=\"1815.07\" cy=\"293.637\" r=\"14\"/>\n",
       "<circle clip-path=\"url(#clip2502)\" style=\"fill:#000000; stroke:none; fill-opacity:1\" cx=\"1894.44\" cy=\"217.271\" r=\"18\"/>\n",
       "<circle clip-path=\"url(#clip2502)\" style=\"fill:#e26f46; stroke:none; fill-opacity:1\" cx=\"1894.44\" cy=\"217.271\" r=\"14\"/>\n",
       "<circle clip-path=\"url(#clip2502)\" style=\"fill:#000000; stroke:none; fill-opacity:1\" cx=\"1799.19\" cy=\"255.454\" r=\"18\"/>\n",
       "<circle clip-path=\"url(#clip2502)\" style=\"fill:#e26f46; stroke:none; fill-opacity:1\" cx=\"1799.19\" cy=\"255.454\" r=\"14\"/>\n",
       "<circle clip-path=\"url(#clip2502)\" style=\"fill:#000000; stroke:none; fill-opacity:1\" cx=\"1799.19\" cy=\"306.364\" r=\"18\"/>\n",
       "<circle clip-path=\"url(#clip2502)\" style=\"fill:#e26f46; stroke:none; fill-opacity:1\" cx=\"1799.19\" cy=\"306.364\" r=\"14\"/>\n",
       "<circle clip-path=\"url(#clip2502)\" style=\"fill:#000000; stroke:none; fill-opacity:1\" cx=\"1719.82\" cy=\"306.364\" r=\"18\"/>\n",
       "<circle clip-path=\"url(#clip2502)\" style=\"fill:#e26f46; stroke:none; fill-opacity:1\" cx=\"1719.82\" cy=\"306.364\" r=\"14\"/>\n",
       "<circle clip-path=\"url(#clip2502)\" style=\"fill:#000000; stroke:none; fill-opacity:1\" cx=\"1957.94\" cy=\"179.089\" r=\"18\"/>\n",
       "<circle clip-path=\"url(#clip2502)\" style=\"fill:#e26f46; stroke:none; fill-opacity:1\" cx=\"1957.94\" cy=\"179.089\" r=\"14\"/>\n",
       "<circle clip-path=\"url(#clip2502)\" style=\"fill:#000000; stroke:none; fill-opacity:1\" cx=\"1942.07\" cy=\"128.179\" r=\"18\"/>\n",
       "<circle clip-path=\"url(#clip2502)\" style=\"fill:#e26f46; stroke:none; fill-opacity:1\" cx=\"1942.07\" cy=\"128.179\" r=\"14\"/>\n",
       "<circle clip-path=\"url(#clip2502)\" style=\"fill:#000000; stroke:none; fill-opacity:1\" cx=\"1894.44\" cy=\"191.816\" r=\"18\"/>\n",
       "<circle clip-path=\"url(#clip2502)\" style=\"fill:#e26f46; stroke:none; fill-opacity:1\" cx=\"1894.44\" cy=\"191.816\" r=\"14\"/>\n",
       "<circle clip-path=\"url(#clip2502)\" style=\"fill:#000000; stroke:none; fill-opacity:1\" cx=\"1846.82\" cy=\"242.727\" r=\"18\"/>\n",
       "<circle clip-path=\"url(#clip2502)\" style=\"fill:#e26f46; stroke:none; fill-opacity:1\" cx=\"1846.82\" cy=\"242.727\" r=\"14\"/>\n",
       "<circle clip-path=\"url(#clip2502)\" style=\"fill:#000000; stroke:none; fill-opacity:1\" cx=\"1942.07\" cy=\"204.544\" r=\"18\"/>\n",
       "<circle clip-path=\"url(#clip2502)\" style=\"fill:#e26f46; stroke:none; fill-opacity:1\" cx=\"1942.07\" cy=\"204.544\" r=\"14\"/>\n",
       "<circle clip-path=\"url(#clip2502)\" style=\"fill:#000000; stroke:none; fill-opacity:1\" cx=\"1846.82\" cy=\"204.544\" r=\"18\"/>\n",
       "<circle clip-path=\"url(#clip2502)\" style=\"fill:#e26f46; stroke:none; fill-opacity:1\" cx=\"1846.82\" cy=\"204.544\" r=\"14\"/>\n",
       "<circle clip-path=\"url(#clip2502)\" style=\"fill:#000000; stroke:none; fill-opacity:1\" cx=\"1894.44\" cy=\"255.454\" r=\"18\"/>\n",
       "<circle clip-path=\"url(#clip2502)\" style=\"fill:#e26f46; stroke:none; fill-opacity:1\" cx=\"1894.44\" cy=\"255.454\" r=\"14\"/>\n",
       "<circle clip-path=\"url(#clip2502)\" style=\"fill:#000000; stroke:none; fill-opacity:1\" cx=\"1846.82\" cy=\"217.271\" r=\"18\"/>\n",
       "<circle clip-path=\"url(#clip2502)\" style=\"fill:#e26f46; stroke:none; fill-opacity:1\" cx=\"1846.82\" cy=\"217.271\" r=\"14\"/>\n",
       "<circle clip-path=\"url(#clip2502)\" style=\"fill:#000000; stroke:none; fill-opacity:1\" cx=\"1767.44\" cy=\"229.999\" r=\"18\"/>\n",
       "<circle clip-path=\"url(#clip2502)\" style=\"fill:#e26f46; stroke:none; fill-opacity:1\" cx=\"1767.44\" cy=\"229.999\" r=\"14\"/>\n",
       "<circle clip-path=\"url(#clip2502)\" style=\"fill:#000000; stroke:none; fill-opacity:1\" cx=\"1846.82\" cy=\"268.182\" r=\"18\"/>\n",
       "<circle clip-path=\"url(#clip2502)\" style=\"fill:#e26f46; stroke:none; fill-opacity:1\" cx=\"1846.82\" cy=\"268.182\" r=\"14\"/>\n",
       "<circle clip-path=\"url(#clip2502)\" style=\"fill:#000000; stroke:none; fill-opacity:1\" cx=\"1799.19\" cy=\"255.454\" r=\"18\"/>\n",
       "<circle clip-path=\"url(#clip2502)\" style=\"fill:#e26f46; stroke:none; fill-opacity:1\" cx=\"1799.19\" cy=\"255.454\" r=\"14\"/>\n",
       "<circle clip-path=\"url(#clip2502)\" style=\"fill:#000000; stroke:none; fill-opacity:1\" cx=\"1830.94\" cy=\"306.364\" r=\"18\"/>\n",
       "<circle clip-path=\"url(#clip2502)\" style=\"fill:#e26f46; stroke:none; fill-opacity:1\" cx=\"1830.94\" cy=\"306.364\" r=\"14\"/>\n",
       "<circle clip-path=\"url(#clip2502)\" style=\"fill:#000000; stroke:none; fill-opacity:1\" cx=\"1830.94\" cy=\"255.454\" r=\"18\"/>\n",
       "<circle clip-path=\"url(#clip2502)\" style=\"fill:#e26f46; stroke:none; fill-opacity:1\" cx=\"1830.94\" cy=\"255.454\" r=\"14\"/>\n",
       "<circle clip-path=\"url(#clip2502)\" style=\"fill:#000000; stroke:none; fill-opacity:1\" cx=\"1862.69\" cy=\"242.727\" r=\"18\"/>\n",
       "<circle clip-path=\"url(#clip2502)\" style=\"fill:#e26f46; stroke:none; fill-opacity:1\" cx=\"1862.69\" cy=\"242.727\" r=\"14\"/>\n",
       "<circle clip-path=\"url(#clip2502)\" style=\"fill:#000000; stroke:none; fill-opacity:1\" cx=\"1862.69\" cy=\"255.454\" r=\"18\"/>\n",
       "<circle clip-path=\"url(#clip2502)\" style=\"fill:#e26f46; stroke:none; fill-opacity:1\" cx=\"1862.69\" cy=\"255.454\" r=\"14\"/>\n",
       "<circle clip-path=\"url(#clip2502)\" style=\"fill:#000000; stroke:none; fill-opacity:1\" cx=\"1783.32\" cy=\"280.909\" r=\"18\"/>\n",
       "<circle clip-path=\"url(#clip2502)\" style=\"fill:#e26f46; stroke:none; fill-opacity:1\" cx=\"1783.32\" cy=\"280.909\" r=\"14\"/>\n",
       "<circle clip-path=\"url(#clip2502)\" style=\"fill:#000000; stroke:none; fill-opacity:1\" cx=\"1799.19\" cy=\"293.637\" r=\"18\"/>\n",
       "<circle clip-path=\"url(#clip2502)\" style=\"fill:#e26f46; stroke:none; fill-opacity:1\" cx=\"1799.19\" cy=\"293.637\" r=\"14\"/>\n",
       "<circle clip-path=\"url(#clip2502)\" style=\"fill:#000000; stroke:none; fill-opacity:1\" cx=\"1894.44\" cy=\"255.454\" r=\"18\"/>\n",
       "<circle clip-path=\"url(#clip2502)\" style=\"fill:#e26f46; stroke:none; fill-opacity:1\" cx=\"1894.44\" cy=\"255.454\" r=\"14\"/>\n",
       "<circle clip-path=\"url(#clip2502)\" style=\"fill:#000000; stroke:none; fill-opacity:1\" cx=\"1862.69\" cy=\"166.361\" r=\"18\"/>\n",
       "<circle clip-path=\"url(#clip2502)\" style=\"fill:#e26f46; stroke:none; fill-opacity:1\" cx=\"1862.69\" cy=\"166.361\" r=\"14\"/>\n",
       "<circle clip-path=\"url(#clip2502)\" style=\"fill:#000000; stroke:none; fill-opacity:1\" cx=\"1910.32\" cy=\"153.634\" r=\"18\"/>\n",
       "<circle clip-path=\"url(#clip2502)\" style=\"fill:#e26f46; stroke:none; fill-opacity:1\" cx=\"1910.32\" cy=\"153.634\" r=\"14\"/>\n",
       "<circle clip-path=\"url(#clip2502)\" style=\"fill:#000000; stroke:none; fill-opacity:1\" cx=\"1815.07\" cy=\"293.637\" r=\"18\"/>\n",
       "<circle clip-path=\"url(#clip2502)\" style=\"fill:#e26f46; stroke:none; fill-opacity:1\" cx=\"1815.07\" cy=\"293.637\" r=\"14\"/>\n",
       "<circle clip-path=\"url(#clip2502)\" style=\"fill:#000000; stroke:none; fill-opacity:1\" cx=\"1830.94\" cy=\"280.909\" r=\"18\"/>\n",
       "<circle clip-path=\"url(#clip2502)\" style=\"fill:#e26f46; stroke:none; fill-opacity:1\" cx=\"1830.94\" cy=\"280.909\" r=\"14\"/>\n",
       "<circle clip-path=\"url(#clip2502)\" style=\"fill:#000000; stroke:none; fill-opacity:1\" cx=\"1910.32\" cy=\"242.727\" r=\"18\"/>\n",
       "<circle clip-path=\"url(#clip2502)\" style=\"fill:#e26f46; stroke:none; fill-opacity:1\" cx=\"1910.32\" cy=\"242.727\" r=\"14\"/>\n",
       "<circle clip-path=\"url(#clip2502)\" style=\"fill:#000000; stroke:none; fill-opacity:1\" cx=\"1815.07\" cy=\"293.637\" r=\"18\"/>\n",
       "<circle clip-path=\"url(#clip2502)\" style=\"fill:#e26f46; stroke:none; fill-opacity:1\" cx=\"1815.07\" cy=\"293.637\" r=\"14\"/>\n",
       "<circle clip-path=\"url(#clip2502)\" style=\"fill:#000000; stroke:none; fill-opacity:1\" cx=\"1735.69\" cy=\"306.364\" r=\"18\"/>\n",
       "<circle clip-path=\"url(#clip2502)\" style=\"fill:#e26f46; stroke:none; fill-opacity:1\" cx=\"1735.69\" cy=\"306.364\" r=\"14\"/>\n",
       "<circle clip-path=\"url(#clip2502)\" style=\"fill:#000000; stroke:none; fill-opacity:1\" cx=\"1846.82\" cy=\"255.454\" r=\"18\"/>\n",
       "<circle clip-path=\"url(#clip2502)\" style=\"fill:#e26f46; stroke:none; fill-opacity:1\" cx=\"1846.82\" cy=\"255.454\" r=\"14\"/>\n",
       "<circle clip-path=\"url(#clip2502)\" style=\"fill:#000000; stroke:none; fill-opacity:1\" cx=\"1830.94\" cy=\"242.727\" r=\"18\"/>\n",
       "<circle clip-path=\"url(#clip2502)\" style=\"fill:#e26f46; stroke:none; fill-opacity:1\" cx=\"1830.94\" cy=\"242.727\" r=\"14\"/>\n",
       "<circle clip-path=\"url(#clip2502)\" style=\"fill:#000000; stroke:none; fill-opacity:1\" cx=\"1751.57\" cy=\"395.457\" r=\"18\"/>\n",
       "<circle clip-path=\"url(#clip2502)\" style=\"fill:#e26f46; stroke:none; fill-opacity:1\" cx=\"1751.57\" cy=\"395.457\" r=\"14\"/>\n",
       "<circle clip-path=\"url(#clip2502)\" style=\"fill:#000000; stroke:none; fill-opacity:1\" cx=\"1735.69\" cy=\"280.909\" r=\"18\"/>\n",
       "<circle clip-path=\"url(#clip2502)\" style=\"fill:#e26f46; stroke:none; fill-opacity:1\" cx=\"1735.69\" cy=\"280.909\" r=\"14\"/>\n",
       "<circle clip-path=\"url(#clip2502)\" style=\"fill:#000000; stroke:none; fill-opacity:1\" cx=\"1830.94\" cy=\"242.727\" r=\"18\"/>\n",
       "<circle clip-path=\"url(#clip2502)\" style=\"fill:#e26f46; stroke:none; fill-opacity:1\" cx=\"1830.94\" cy=\"242.727\" r=\"14\"/>\n",
       "<circle clip-path=\"url(#clip2502)\" style=\"fill:#000000; stroke:none; fill-opacity:1\" cx=\"1846.82\" cy=\"204.544\" r=\"18\"/>\n",
       "<circle clip-path=\"url(#clip2502)\" style=\"fill:#e26f46; stroke:none; fill-opacity:1\" cx=\"1846.82\" cy=\"204.544\" r=\"14\"/>\n",
       "<circle clip-path=\"url(#clip2502)\" style=\"fill:#000000; stroke:none; fill-opacity:1\" cx=\"1799.19\" cy=\"306.364\" r=\"18\"/>\n",
       "<circle clip-path=\"url(#clip2502)\" style=\"fill:#e26f46; stroke:none; fill-opacity:1\" cx=\"1799.19\" cy=\"306.364\" r=\"14\"/>\n",
       "<circle clip-path=\"url(#clip2502)\" style=\"fill:#000000; stroke:none; fill-opacity:1\" cx=\"1846.82\" cy=\"204.544\" r=\"18\"/>\n",
       "<circle clip-path=\"url(#clip2502)\" style=\"fill:#e26f46; stroke:none; fill-opacity:1\" cx=\"1846.82\" cy=\"204.544\" r=\"14\"/>\n",
       "<circle clip-path=\"url(#clip2502)\" style=\"fill:#000000; stroke:none; fill-opacity:1\" cx=\"1767.44\" cy=\"280.909\" r=\"18\"/>\n",
       "<circle clip-path=\"url(#clip2502)\" style=\"fill:#e26f46; stroke:none; fill-opacity:1\" cx=\"1767.44\" cy=\"280.909\" r=\"14\"/>\n",
       "<circle clip-path=\"url(#clip2502)\" style=\"fill:#000000; stroke:none; fill-opacity:1\" cx=\"1878.57\" cy=\"217.271\" r=\"18\"/>\n",
       "<circle clip-path=\"url(#clip2502)\" style=\"fill:#e26f46; stroke:none; fill-opacity:1\" cx=\"1878.57\" cy=\"217.271\" r=\"14\"/>\n",
       "<circle clip-path=\"url(#clip2502)\" style=\"fill:#000000; stroke:none; fill-opacity:1\" cx=\"1830.94\" cy=\"268.182\" r=\"18\"/>\n",
       "<circle clip-path=\"url(#clip2502)\" style=\"fill:#e26f46; stroke:none; fill-opacity:1\" cx=\"1830.94\" cy=\"268.182\" r=\"14\"/>\n",
       "<circle clip-path=\"url(#clip2502)\" style=\"fill:#000000; stroke:none; fill-opacity:1\" cx=\"2148.44\" cy=\"280.909\" r=\"18\"/>\n",
       "<circle clip-path=\"url(#clip2502)\" style=\"fill:#3da44d; stroke:none; fill-opacity:1\" cx=\"2148.44\" cy=\"280.909\" r=\"14\"/>\n",
       "<circle clip-path=\"url(#clip2502)\" style=\"fill:#000000; stroke:none; fill-opacity:1\" cx=\"2053.19\" cy=\"280.909\" r=\"18\"/>\n",
       "<circle clip-path=\"url(#clip2502)\" style=\"fill:#3da44d; stroke:none; fill-opacity:1\" cx=\"2053.19\" cy=\"280.909\" r=\"14\"/>\n",
       "<circle clip-path=\"url(#clip2502)\" style=\"fill:#000000; stroke:none; fill-opacity:1\" cx=\"2132.57\" cy=\"293.637\" r=\"18\"/>\n",
       "<circle clip-path=\"url(#clip2502)\" style=\"fill:#3da44d; stroke:none; fill-opacity:1\" cx=\"2132.57\" cy=\"293.637\" r=\"14\"/>\n",
       "<circle clip-path=\"url(#clip2502)\" style=\"fill:#000000; stroke:none; fill-opacity:1\" cx=\"1910.32\" cy=\"395.457\" r=\"18\"/>\n",
       "<circle clip-path=\"url(#clip2502)\" style=\"fill:#3da44d; stroke:none; fill-opacity:1\" cx=\"1910.32\" cy=\"395.457\" r=\"14\"/>\n",
       "<circle clip-path=\"url(#clip2502)\" style=\"fill:#000000; stroke:none; fill-opacity:1\" cx=\"2069.07\" cy=\"331.819\" r=\"18\"/>\n",
       "<circle clip-path=\"url(#clip2502)\" style=\"fill:#3da44d; stroke:none; fill-opacity:1\" cx=\"2069.07\" cy=\"331.819\" r=\"14\"/>\n",
       "<circle clip-path=\"url(#clip2502)\" style=\"fill:#000000; stroke:none; fill-opacity:1\" cx=\"1942.07\" cy=\"331.819\" r=\"18\"/>\n",
       "<circle clip-path=\"url(#clip2502)\" style=\"fill:#3da44d; stroke:none; fill-opacity:1\" cx=\"1942.07\" cy=\"331.819\" r=\"14\"/>\n",
       "<circle clip-path=\"url(#clip2502)\" style=\"fill:#000000; stroke:none; fill-opacity:1\" cx=\"2037.32\" cy=\"268.182\" r=\"18\"/>\n",
       "<circle clip-path=\"url(#clip2502)\" style=\"fill:#3da44d; stroke:none; fill-opacity:1\" cx=\"2037.32\" cy=\"268.182\" r=\"14\"/>\n",
       "<circle clip-path=\"url(#clip2502)\" style=\"fill:#000000; stroke:none; fill-opacity:1\" cx=\"1815.07\" cy=\"382.73\" r=\"18\"/>\n",
       "<circle clip-path=\"url(#clip2502)\" style=\"fill:#3da44d; stroke:none; fill-opacity:1\" cx=\"1815.07\" cy=\"382.73\" r=\"14\"/>\n",
       "<circle clip-path=\"url(#clip2502)\" style=\"fill:#000000; stroke:none; fill-opacity:1\" cx=\"2084.94\" cy=\"319.092\" r=\"18\"/>\n",
       "<circle clip-path=\"url(#clip2502)\" style=\"fill:#3da44d; stroke:none; fill-opacity:1\" cx=\"2084.94\" cy=\"319.092\" r=\"14\"/>\n",
       "<circle clip-path=\"url(#clip2502)\" style=\"fill:#000000; stroke:none; fill-opacity:1\" cx=\"1862.69\" cy=\"344.547\" r=\"18\"/>\n",
       "<circle clip-path=\"url(#clip2502)\" style=\"fill:#3da44d; stroke:none; fill-opacity:1\" cx=\"1862.69\" cy=\"344.547\" r=\"14\"/>\n",
       "<circle clip-path=\"url(#clip2502)\" style=\"fill:#000000; stroke:none; fill-opacity:1\" cx=\"1830.94\" cy=\"433.64\" r=\"18\"/>\n",
       "<circle clip-path=\"url(#clip2502)\" style=\"fill:#3da44d; stroke:none; fill-opacity:1\" cx=\"1830.94\" cy=\"433.64\" r=\"14\"/>\n",
       "<circle clip-path=\"url(#clip2502)\" style=\"fill:#000000; stroke:none; fill-opacity:1\" cx=\"1973.82\" cy=\"306.364\" r=\"18\"/>\n",
       "<circle clip-path=\"url(#clip2502)\" style=\"fill:#3da44d; stroke:none; fill-opacity:1\" cx=\"1973.82\" cy=\"306.364\" r=\"14\"/>\n",
       "<circle clip-path=\"url(#clip2502)\" style=\"fill:#000000; stroke:none; fill-opacity:1\" cx=\"1989.69\" cy=\"408.185\" r=\"18\"/>\n",
       "<circle clip-path=\"url(#clip2502)\" style=\"fill:#3da44d; stroke:none; fill-opacity:1\" cx=\"1989.69\" cy=\"408.185\" r=\"14\"/>\n",
       "<circle clip-path=\"url(#clip2502)\" style=\"fill:#000000; stroke:none; fill-opacity:1\" cx=\"2005.57\" cy=\"319.092\" r=\"18\"/>\n",
       "<circle clip-path=\"url(#clip2502)\" style=\"fill:#3da44d; stroke:none; fill-opacity:1\" cx=\"2005.57\" cy=\"319.092\" r=\"14\"/>\n",
       "<circle clip-path=\"url(#clip2502)\" style=\"fill:#000000; stroke:none; fill-opacity:1\" cx=\"1926.19\" cy=\"319.092\" r=\"18\"/>\n",
       "<circle clip-path=\"url(#clip2502)\" style=\"fill:#3da44d; stroke:none; fill-opacity:1\" cx=\"1926.19\" cy=\"319.092\" r=\"14\"/>\n",
       "<circle clip-path=\"url(#clip2502)\" style=\"fill:#000000; stroke:none; fill-opacity:1\" cx=\"2100.82\" cy=\"293.637\" r=\"18\"/>\n",
       "<circle clip-path=\"url(#clip2502)\" style=\"fill:#3da44d; stroke:none; fill-opacity:1\" cx=\"2100.82\" cy=\"293.637\" r=\"14\"/>\n",
       "<circle clip-path=\"url(#clip2502)\" style=\"fill:#000000; stroke:none; fill-opacity:1\" cx=\"1926.19\" cy=\"306.364\" r=\"18\"/>\n",
       "<circle clip-path=\"url(#clip2502)\" style=\"fill:#3da44d; stroke:none; fill-opacity:1\" cx=\"1926.19\" cy=\"306.364\" r=\"14\"/>\n",
       "<circle clip-path=\"url(#clip2502)\" style=\"fill:#000000; stroke:none; fill-opacity:1\" cx=\"1957.94\" cy=\"344.547\" r=\"18\"/>\n",
       "<circle clip-path=\"url(#clip2502)\" style=\"fill:#3da44d; stroke:none; fill-opacity:1\" cx=\"1957.94\" cy=\"344.547\" r=\"14\"/>\n",
       "<circle clip-path=\"url(#clip2502)\" style=\"fill:#000000; stroke:none; fill-opacity:1\" cx=\"2021.44\" cy=\"408.185\" r=\"18\"/>\n",
       "<circle clip-path=\"url(#clip2502)\" style=\"fill:#3da44d; stroke:none; fill-opacity:1\" cx=\"2021.44\" cy=\"408.185\" r=\"14\"/>\n",
       "<circle clip-path=\"url(#clip2502)\" style=\"fill:#000000; stroke:none; fill-opacity:1\" cx=\"1926.19\" cy=\"370.002\" r=\"18\"/>\n",
       "<circle clip-path=\"url(#clip2502)\" style=\"fill:#3da44d; stroke:none; fill-opacity:1\" cx=\"1926.19\" cy=\"370.002\" r=\"14\"/>\n",
       "<circle clip-path=\"url(#clip2502)\" style=\"fill:#000000; stroke:none; fill-opacity:1\" cx=\"1973.82\" cy=\"280.909\" r=\"18\"/>\n",
       "<circle clip-path=\"url(#clip2502)\" style=\"fill:#3da44d; stroke:none; fill-opacity:1\" cx=\"1973.82\" cy=\"280.909\" r=\"14\"/>\n",
       "<circle clip-path=\"url(#clip2502)\" style=\"fill:#000000; stroke:none; fill-opacity:1\" cx=\"2005.57\" cy=\"331.819\" r=\"18\"/>\n",
       "<circle clip-path=\"url(#clip2502)\" style=\"fill:#3da44d; stroke:none; fill-opacity:1\" cx=\"2005.57\" cy=\"331.819\" r=\"14\"/>\n",
       "<circle clip-path=\"url(#clip2502)\" style=\"fill:#000000; stroke:none; fill-opacity:1\" cx=\"2037.32\" cy=\"370.002\" r=\"18\"/>\n",
       "<circle clip-path=\"url(#clip2502)\" style=\"fill:#3da44d; stroke:none; fill-opacity:1\" cx=\"2037.32\" cy=\"370.002\" r=\"14\"/>\n",
       "<circle clip-path=\"url(#clip2502)\" style=\"fill:#000000; stroke:none; fill-opacity:1\" cx=\"2005.57\" cy=\"331.819\" r=\"18\"/>\n",
       "<circle clip-path=\"url(#clip2502)\" style=\"fill:#3da44d; stroke:none; fill-opacity:1\" cx=\"2005.57\" cy=\"331.819\" r=\"14\"/>\n",
       "<circle clip-path=\"url(#clip2502)\" style=\"fill:#000000; stroke:none; fill-opacity:1\" cx=\"2053.19\" cy=\"319.092\" r=\"18\"/>\n",
       "<circle clip-path=\"url(#clip2502)\" style=\"fill:#3da44d; stroke:none; fill-opacity:1\" cx=\"2053.19\" cy=\"319.092\" r=\"14\"/>\n",
       "<circle clip-path=\"url(#clip2502)\" style=\"fill:#000000; stroke:none; fill-opacity:1\" cx=\"2084.94\" cy=\"306.364\" r=\"18\"/>\n",
       "<circle clip-path=\"url(#clip2502)\" style=\"fill:#3da44d; stroke:none; fill-opacity:1\" cx=\"2084.94\" cy=\"306.364\" r=\"14\"/>\n",
       "<circle clip-path=\"url(#clip2502)\" style=\"fill:#000000; stroke:none; fill-opacity:1\" cx=\"2116.69\" cy=\"331.819\" r=\"18\"/>\n",
       "<circle clip-path=\"url(#clip2502)\" style=\"fill:#3da44d; stroke:none; fill-opacity:1\" cx=\"2116.69\" cy=\"331.819\" r=\"14\"/>\n",
       "<circle clip-path=\"url(#clip2502)\" style=\"fill:#000000; stroke:none; fill-opacity:1\" cx=\"2100.82\" cy=\"306.364\" r=\"18\"/>\n",
       "<circle clip-path=\"url(#clip2502)\" style=\"fill:#3da44d; stroke:none; fill-opacity:1\" cx=\"2100.82\" cy=\"306.364\" r=\"14\"/>\n",
       "<circle clip-path=\"url(#clip2502)\" style=\"fill:#000000; stroke:none; fill-opacity:1\" cx=\"1989.69\" cy=\"319.092\" r=\"18\"/>\n",
       "<circle clip-path=\"url(#clip2502)\" style=\"fill:#3da44d; stroke:none; fill-opacity:1\" cx=\"1989.69\" cy=\"319.092\" r=\"14\"/>\n",
       "<circle clip-path=\"url(#clip2502)\" style=\"fill:#000000; stroke:none; fill-opacity:1\" cx=\"1942.07\" cy=\"357.274\" r=\"18\"/>\n",
       "<circle clip-path=\"url(#clip2502)\" style=\"fill:#3da44d; stroke:none; fill-opacity:1\" cx=\"1942.07\" cy=\"357.274\" r=\"14\"/>\n",
       "<circle clip-path=\"url(#clip2502)\" style=\"fill:#000000; stroke:none; fill-opacity:1\" cx=\"1910.32\" cy=\"382.73\" r=\"18\"/>\n",
       "<circle clip-path=\"url(#clip2502)\" style=\"fill:#3da44d; stroke:none; fill-opacity:1\" cx=\"1910.32\" cy=\"382.73\" r=\"14\"/>\n",
       "<circle clip-path=\"url(#clip2502)\" style=\"fill:#000000; stroke:none; fill-opacity:1\" cx=\"1910.32\" cy=\"382.73\" r=\"18\"/>\n",
       "<circle clip-path=\"url(#clip2502)\" style=\"fill:#3da44d; stroke:none; fill-opacity:1\" cx=\"1910.32\" cy=\"382.73\" r=\"14\"/>\n",
       "<circle clip-path=\"url(#clip2502)\" style=\"fill:#000000; stroke:none; fill-opacity:1\" cx=\"1957.94\" cy=\"344.547\" r=\"18\"/>\n",
       "<circle clip-path=\"url(#clip2502)\" style=\"fill:#3da44d; stroke:none; fill-opacity:1\" cx=\"1957.94\" cy=\"344.547\" r=\"14\"/>\n",
       "<circle clip-path=\"url(#clip2502)\" style=\"fill:#000000; stroke:none; fill-opacity:1\" cx=\"1989.69\" cy=\"344.547\" r=\"18\"/>\n",
       "<circle clip-path=\"url(#clip2502)\" style=\"fill:#3da44d; stroke:none; fill-opacity:1\" cx=\"1989.69\" cy=\"344.547\" r=\"14\"/>\n",
       "<circle clip-path=\"url(#clip2502)\" style=\"fill:#000000; stroke:none; fill-opacity:1\" cx=\"1894.44\" cy=\"306.364\" r=\"18\"/>\n",
       "<circle clip-path=\"url(#clip2502)\" style=\"fill:#3da44d; stroke:none; fill-opacity:1\" cx=\"1894.44\" cy=\"306.364\" r=\"14\"/>\n",
       "<circle clip-path=\"url(#clip2502)\" style=\"fill:#000000; stroke:none; fill-opacity:1\" cx=\"1989.69\" cy=\"255.454\" r=\"18\"/>\n",
       "<circle clip-path=\"url(#clip2502)\" style=\"fill:#3da44d; stroke:none; fill-opacity:1\" cx=\"1989.69\" cy=\"255.454\" r=\"14\"/>\n",
       "<circle clip-path=\"url(#clip2502)\" style=\"fill:#000000; stroke:none; fill-opacity:1\" cx=\"2100.82\" cy=\"293.637\" r=\"18\"/>\n",
       "<circle clip-path=\"url(#clip2502)\" style=\"fill:#3da44d; stroke:none; fill-opacity:1\" cx=\"2100.82\" cy=\"293.637\" r=\"14\"/>\n",
       "<circle clip-path=\"url(#clip2502)\" style=\"fill:#000000; stroke:none; fill-opacity:1\" cx=\"2037.32\" cy=\"395.457\" r=\"18\"/>\n",
       "<circle clip-path=\"url(#clip2502)\" style=\"fill:#3da44d; stroke:none; fill-opacity:1\" cx=\"2037.32\" cy=\"395.457\" r=\"14\"/>\n",
       "<circle clip-path=\"url(#clip2502)\" style=\"fill:#000000; stroke:none; fill-opacity:1\" cx=\"1926.19\" cy=\"306.364\" r=\"18\"/>\n",
       "<circle clip-path=\"url(#clip2502)\" style=\"fill:#3da44d; stroke:none; fill-opacity:1\" cx=\"1926.19\" cy=\"306.364\" r=\"14\"/>\n",
       "<circle clip-path=\"url(#clip2502)\" style=\"fill:#000000; stroke:none; fill-opacity:1\" cx=\"1910.32\" cy=\"370.002\" r=\"18\"/>\n",
       "<circle clip-path=\"url(#clip2502)\" style=\"fill:#3da44d; stroke:none; fill-opacity:1\" cx=\"1910.32\" cy=\"370.002\" r=\"14\"/>\n",
       "<circle clip-path=\"url(#clip2502)\" style=\"fill:#000000; stroke:none; fill-opacity:1\" cx=\"1910.32\" cy=\"357.274\" r=\"18\"/>\n",
       "<circle clip-path=\"url(#clip2502)\" style=\"fill:#3da44d; stroke:none; fill-opacity:1\" cx=\"1910.32\" cy=\"357.274\" r=\"14\"/>\n",
       "<circle clip-path=\"url(#clip2502)\" style=\"fill:#000000; stroke:none; fill-opacity:1\" cx=\"2005.57\" cy=\"306.364\" r=\"18\"/>\n",
       "<circle clip-path=\"url(#clip2502)\" style=\"fill:#3da44d; stroke:none; fill-opacity:1\" cx=\"2005.57\" cy=\"306.364\" r=\"14\"/>\n",
       "<circle clip-path=\"url(#clip2502)\" style=\"fill:#000000; stroke:none; fill-opacity:1\" cx=\"1957.94\" cy=\"357.274\" r=\"18\"/>\n",
       "<circle clip-path=\"url(#clip2502)\" style=\"fill:#3da44d; stroke:none; fill-opacity:1\" cx=\"1957.94\" cy=\"357.274\" r=\"14\"/>\n",
       "<circle clip-path=\"url(#clip2502)\" style=\"fill:#000000; stroke:none; fill-opacity:1\" cx=\"1830.94\" cy=\"395.457\" r=\"18\"/>\n",
       "<circle clip-path=\"url(#clip2502)\" style=\"fill:#3da44d; stroke:none; fill-opacity:1\" cx=\"1830.94\" cy=\"395.457\" r=\"14\"/>\n",
       "<circle clip-path=\"url(#clip2502)\" style=\"fill:#000000; stroke:none; fill-opacity:1\" cx=\"1926.19\" cy=\"344.547\" r=\"18\"/>\n",
       "<circle clip-path=\"url(#clip2502)\" style=\"fill:#3da44d; stroke:none; fill-opacity:1\" cx=\"1926.19\" cy=\"344.547\" r=\"14\"/>\n",
       "<circle clip-path=\"url(#clip2502)\" style=\"fill:#000000; stroke:none; fill-opacity:1\" cx=\"1942.07\" cy=\"306.364\" r=\"18\"/>\n",
       "<circle clip-path=\"url(#clip2502)\" style=\"fill:#3da44d; stroke:none; fill-opacity:1\" cx=\"1942.07\" cy=\"306.364\" r=\"14\"/>\n",
       "<circle clip-path=\"url(#clip2502)\" style=\"fill:#000000; stroke:none; fill-opacity:1\" cx=\"1942.07\" cy=\"319.092\" r=\"18\"/>\n",
       "<circle clip-path=\"url(#clip2502)\" style=\"fill:#3da44d; stroke:none; fill-opacity:1\" cx=\"1942.07\" cy=\"319.092\" r=\"14\"/>\n",
       "<circle clip-path=\"url(#clip2502)\" style=\"fill:#000000; stroke:none; fill-opacity:1\" cx=\"2021.44\" cy=\"319.092\" r=\"18\"/>\n",
       "<circle clip-path=\"url(#clip2502)\" style=\"fill:#3da44d; stroke:none; fill-opacity:1\" cx=\"2021.44\" cy=\"319.092\" r=\"14\"/>\n",
       "<circle clip-path=\"url(#clip2502)\" style=\"fill:#000000; stroke:none; fill-opacity:1\" cx=\"1846.82\" cy=\"370.002\" r=\"18\"/>\n",
       "<circle clip-path=\"url(#clip2502)\" style=\"fill:#3da44d; stroke:none; fill-opacity:1\" cx=\"1846.82\" cy=\"370.002\" r=\"14\"/>\n",
       "<circle clip-path=\"url(#clip2502)\" style=\"fill:#000000; stroke:none; fill-opacity:1\" cx=\"1942.07\" cy=\"331.819\" r=\"18\"/>\n",
       "<circle clip-path=\"url(#clip2502)\" style=\"fill:#3da44d; stroke:none; fill-opacity:1\" cx=\"1942.07\" cy=\"331.819\" r=\"14\"/>\n",
       "<circle clip-path=\"url(#clip2502)\" style=\"fill:#000000; stroke:none; fill-opacity:1\" cx=\"2037.32\" cy=\"268.182\" r=\"18\"/>\n",
       "<circle clip-path=\"url(#clip2502)\" style=\"fill:#3da44d; stroke:none; fill-opacity:1\" cx=\"2037.32\" cy=\"268.182\" r=\"14\"/>\n",
       "<circle clip-path=\"url(#clip2502)\" style=\"fill:#000000; stroke:none; fill-opacity:1\" cx=\"1957.94\" cy=\"344.547\" r=\"18\"/>\n",
       "<circle clip-path=\"url(#clip2502)\" style=\"fill:#3da44d; stroke:none; fill-opacity:1\" cx=\"1957.94\" cy=\"344.547\" r=\"14\"/>\n",
       "<circle clip-path=\"url(#clip2502)\" style=\"fill:#000000; stroke:none; fill-opacity:1\" cx=\"2164.32\" cy=\"306.364\" r=\"18\"/>\n",
       "<circle clip-path=\"url(#clip2502)\" style=\"fill:#3da44d; stroke:none; fill-opacity:1\" cx=\"2164.32\" cy=\"306.364\" r=\"14\"/>\n",
       "<circle clip-path=\"url(#clip2502)\" style=\"fill:#000000; stroke:none; fill-opacity:1\" cx=\"2037.32\" cy=\"319.092\" r=\"18\"/>\n",
       "<circle clip-path=\"url(#clip2502)\" style=\"fill:#3da44d; stroke:none; fill-opacity:1\" cx=\"2037.32\" cy=\"319.092\" r=\"14\"/>\n",
       "<circle clip-path=\"url(#clip2502)\" style=\"fill:#000000; stroke:none; fill-opacity:1\" cx=\"2069.07\" cy=\"306.364\" r=\"18\"/>\n",
       "<circle clip-path=\"url(#clip2502)\" style=\"fill:#3da44d; stroke:none; fill-opacity:1\" cx=\"2069.07\" cy=\"306.364\" r=\"14\"/>\n",
       "<circle clip-path=\"url(#clip2502)\" style=\"fill:#000000; stroke:none; fill-opacity:1\" cx=\"2243.69\" cy=\"306.364\" r=\"18\"/>\n",
       "<circle clip-path=\"url(#clip2502)\" style=\"fill:#3da44d; stroke:none; fill-opacity:1\" cx=\"2243.69\" cy=\"306.364\" r=\"14\"/>\n",
       "<circle clip-path=\"url(#clip2502)\" style=\"fill:#000000; stroke:none; fill-opacity:1\" cx=\"1815.07\" cy=\"370.002\" r=\"18\"/>\n",
       "<circle clip-path=\"url(#clip2502)\" style=\"fill:#3da44d; stroke:none; fill-opacity:1\" cx=\"1815.07\" cy=\"370.002\" r=\"14\"/>\n",
       "<circle clip-path=\"url(#clip2502)\" style=\"fill:#000000; stroke:none; fill-opacity:1\" cx=\"2196.07\" cy=\"319.092\" r=\"18\"/>\n",
       "<circle clip-path=\"url(#clip2502)\" style=\"fill:#3da44d; stroke:none; fill-opacity:1\" cx=\"2196.07\" cy=\"319.092\" r=\"14\"/>\n",
       "<circle clip-path=\"url(#clip2502)\" style=\"fill:#000000; stroke:none; fill-opacity:1\" cx=\"2100.82\" cy=\"370.002\" r=\"18\"/>\n",
       "<circle clip-path=\"url(#clip2502)\" style=\"fill:#3da44d; stroke:none; fill-opacity:1\" cx=\"2100.82\" cy=\"370.002\" r=\"14\"/>\n",
       "<circle clip-path=\"url(#clip2502)\" style=\"fill:#000000; stroke:none; fill-opacity:1\" cx=\"2180.19\" cy=\"229.999\" r=\"18\"/>\n",
       "<circle clip-path=\"url(#clip2502)\" style=\"fill:#3da44d; stroke:none; fill-opacity:1\" cx=\"2180.19\" cy=\"229.999\" r=\"14\"/>\n",
       "<circle clip-path=\"url(#clip2502)\" style=\"fill:#000000; stroke:none; fill-opacity:1\" cx=\"2069.07\" cy=\"280.909\" r=\"18\"/>\n",
       "<circle clip-path=\"url(#clip2502)\" style=\"fill:#3da44d; stroke:none; fill-opacity:1\" cx=\"2069.07\" cy=\"280.909\" r=\"14\"/>\n",
       "<circle clip-path=\"url(#clip2502)\" style=\"fill:#000000; stroke:none; fill-opacity:1\" cx=\"2053.19\" cy=\"344.547\" r=\"18\"/>\n",
       "<circle clip-path=\"url(#clip2502)\" style=\"fill:#3da44d; stroke:none; fill-opacity:1\" cx=\"2053.19\" cy=\"344.547\" r=\"14\"/>\n",
       "<circle clip-path=\"url(#clip2502)\" style=\"fill:#000000; stroke:none; fill-opacity:1\" cx=\"2116.69\" cy=\"306.364\" r=\"18\"/>\n",
       "<circle clip-path=\"url(#clip2502)\" style=\"fill:#3da44d; stroke:none; fill-opacity:1\" cx=\"2116.69\" cy=\"306.364\" r=\"14\"/>\n",
       "<circle clip-path=\"url(#clip2502)\" style=\"fill:#000000; stroke:none; fill-opacity:1\" cx=\"1942.07\" cy=\"370.002\" r=\"18\"/>\n",
       "<circle clip-path=\"url(#clip2502)\" style=\"fill:#3da44d; stroke:none; fill-opacity:1\" cx=\"1942.07\" cy=\"370.002\" r=\"14\"/>\n",
       "<circle clip-path=\"url(#clip2502)\" style=\"fill:#000000; stroke:none; fill-opacity:1\" cx=\"1957.94\" cy=\"331.819\" r=\"18\"/>\n",
       "<circle clip-path=\"url(#clip2502)\" style=\"fill:#3da44d; stroke:none; fill-opacity:1\" cx=\"1957.94\" cy=\"331.819\" r=\"14\"/>\n",
       "<circle clip-path=\"url(#clip2502)\" style=\"fill:#000000; stroke:none; fill-opacity:1\" cx=\"2053.19\" cy=\"280.909\" r=\"18\"/>\n",
       "<circle clip-path=\"url(#clip2502)\" style=\"fill:#3da44d; stroke:none; fill-opacity:1\" cx=\"2053.19\" cy=\"280.909\" r=\"14\"/>\n",
       "<circle clip-path=\"url(#clip2502)\" style=\"fill:#000000; stroke:none; fill-opacity:1\" cx=\"2069.07\" cy=\"306.364\" r=\"18\"/>\n",
       "<circle clip-path=\"url(#clip2502)\" style=\"fill:#3da44d; stroke:none; fill-opacity:1\" cx=\"2069.07\" cy=\"306.364\" r=\"14\"/>\n",
       "<circle clip-path=\"url(#clip2502)\" style=\"fill:#000000; stroke:none; fill-opacity:1\" cx=\"2259.57\" cy=\"204.544\" r=\"18\"/>\n",
       "<circle clip-path=\"url(#clip2502)\" style=\"fill:#3da44d; stroke:none; fill-opacity:1\" cx=\"2259.57\" cy=\"204.544\" r=\"14\"/>\n",
       "<circle clip-path=\"url(#clip2502)\" style=\"fill:#000000; stroke:none; fill-opacity:1\" cx=\"2259.57\" cy=\"357.274\" r=\"18\"/>\n",
       "<circle clip-path=\"url(#clip2502)\" style=\"fill:#3da44d; stroke:none; fill-opacity:1\" cx=\"2259.57\" cy=\"357.274\" r=\"14\"/>\n",
       "<circle clip-path=\"url(#clip2502)\" style=\"fill:#000000; stroke:none; fill-opacity:1\" cx=\"1989.69\" cy=\"408.185\" r=\"18\"/>\n",
       "<circle clip-path=\"url(#clip2502)\" style=\"fill:#3da44d; stroke:none; fill-opacity:1\" cx=\"1989.69\" cy=\"408.185\" r=\"14\"/>\n",
       "<circle clip-path=\"url(#clip2502)\" style=\"fill:#000000; stroke:none; fill-opacity:1\" cx=\"2132.57\" cy=\"280.909\" r=\"18\"/>\n",
       "<circle clip-path=\"url(#clip2502)\" style=\"fill:#3da44d; stroke:none; fill-opacity:1\" cx=\"2132.57\" cy=\"280.909\" r=\"14\"/>\n",
       "<circle clip-path=\"url(#clip2502)\" style=\"fill:#000000; stroke:none; fill-opacity:1\" cx=\"1926.19\" cy=\"331.819\" r=\"18\"/>\n",
       "<circle clip-path=\"url(#clip2502)\" style=\"fill:#3da44d; stroke:none; fill-opacity:1\" cx=\"1926.19\" cy=\"331.819\" r=\"14\"/>\n",
       "<circle clip-path=\"url(#clip2502)\" style=\"fill:#000000; stroke:none; fill-opacity:1\" cx=\"2259.57\" cy=\"331.819\" r=\"18\"/>\n",
       "<circle clip-path=\"url(#clip2502)\" style=\"fill:#3da44d; stroke:none; fill-opacity:1\" cx=\"2259.57\" cy=\"331.819\" r=\"14\"/>\n",
       "<circle clip-path=\"url(#clip2502)\" style=\"fill:#000000; stroke:none; fill-opacity:1\" cx=\"2037.32\" cy=\"344.547\" r=\"18\"/>\n",
       "<circle clip-path=\"url(#clip2502)\" style=\"fill:#3da44d; stroke:none; fill-opacity:1\" cx=\"2037.32\" cy=\"344.547\" r=\"14\"/>\n",
       "<circle clip-path=\"url(#clip2502)\" style=\"fill:#000000; stroke:none; fill-opacity:1\" cx=\"2100.82\" cy=\"268.182\" r=\"18\"/>\n",
       "<circle clip-path=\"url(#clip2502)\" style=\"fill:#3da44d; stroke:none; fill-opacity:1\" cx=\"2100.82\" cy=\"268.182\" r=\"14\"/>\n",
       "<circle clip-path=\"url(#clip2502)\" style=\"fill:#000000; stroke:none; fill-opacity:1\" cx=\"2180.19\" cy=\"280.909\" r=\"18\"/>\n",
       "<circle clip-path=\"url(#clip2502)\" style=\"fill:#3da44d; stroke:none; fill-opacity:1\" cx=\"2180.19\" cy=\"280.909\" r=\"14\"/>\n",
       "<circle clip-path=\"url(#clip2502)\" style=\"fill:#000000; stroke:none; fill-opacity:1\" cx=\"2021.44\" cy=\"331.819\" r=\"18\"/>\n",
       "<circle clip-path=\"url(#clip2502)\" style=\"fill:#3da44d; stroke:none; fill-opacity:1\" cx=\"2021.44\" cy=\"331.819\" r=\"14\"/>\n",
       "<circle clip-path=\"url(#clip2502)\" style=\"fill:#000000; stroke:none; fill-opacity:1\" cx=\"2005.57\" cy=\"306.364\" r=\"18\"/>\n",
       "<circle clip-path=\"url(#clip2502)\" style=\"fill:#3da44d; stroke:none; fill-opacity:1\" cx=\"2005.57\" cy=\"306.364\" r=\"14\"/>\n",
       "<circle clip-path=\"url(#clip2502)\" style=\"fill:#000000; stroke:none; fill-opacity:1\" cx=\"2053.19\" cy=\"331.819\" r=\"18\"/>\n",
       "<circle clip-path=\"url(#clip2502)\" style=\"fill:#3da44d; stroke:none; fill-opacity:1\" cx=\"2053.19\" cy=\"331.819\" r=\"14\"/>\n",
       "<circle clip-path=\"url(#clip2502)\" style=\"fill:#000000; stroke:none; fill-opacity:1\" cx=\"2180.19\" cy=\"306.364\" r=\"18\"/>\n",
       "<circle clip-path=\"url(#clip2502)\" style=\"fill:#3da44d; stroke:none; fill-opacity:1\" cx=\"2180.19\" cy=\"306.364\" r=\"14\"/>\n",
       "<circle clip-path=\"url(#clip2502)\" style=\"fill:#000000; stroke:none; fill-opacity:1\" cx=\"2211.94\" cy=\"331.819\" r=\"18\"/>\n",
       "<circle clip-path=\"url(#clip2502)\" style=\"fill:#3da44d; stroke:none; fill-opacity:1\" cx=\"2211.94\" cy=\"331.819\" r=\"14\"/>\n",
       "<circle clip-path=\"url(#clip2502)\" style=\"fill:#000000; stroke:none; fill-opacity:1\" cx=\"2291.32\" cy=\"204.544\" r=\"18\"/>\n",
       "<circle clip-path=\"url(#clip2502)\" style=\"fill:#3da44d; stroke:none; fill-opacity:1\" cx=\"2291.32\" cy=\"204.544\" r=\"14\"/>\n",
       "<circle clip-path=\"url(#clip2502)\" style=\"fill:#000000; stroke:none; fill-opacity:1\" cx=\"2053.19\" cy=\"331.819\" r=\"18\"/>\n",
       "<circle clip-path=\"url(#clip2502)\" style=\"fill:#3da44d; stroke:none; fill-opacity:1\" cx=\"2053.19\" cy=\"331.819\" r=\"14\"/>\n",
       "<circle clip-path=\"url(#clip2502)\" style=\"fill:#000000; stroke:none; fill-opacity:1\" cx=\"2037.32\" cy=\"331.819\" r=\"18\"/>\n",
       "<circle clip-path=\"url(#clip2502)\" style=\"fill:#3da44d; stroke:none; fill-opacity:1\" cx=\"2037.32\" cy=\"331.819\" r=\"14\"/>\n",
       "<circle clip-path=\"url(#clip2502)\" style=\"fill:#000000; stroke:none; fill-opacity:1\" cx=\"2005.57\" cy=\"357.274\" r=\"18\"/>\n",
       "<circle clip-path=\"url(#clip2502)\" style=\"fill:#3da44d; stroke:none; fill-opacity:1\" cx=\"2005.57\" cy=\"357.274\" r=\"14\"/>\n",
       "<circle clip-path=\"url(#clip2502)\" style=\"fill:#000000; stroke:none; fill-opacity:1\" cx=\"2259.57\" cy=\"306.364\" r=\"18\"/>\n",
       "<circle clip-path=\"url(#clip2502)\" style=\"fill:#3da44d; stroke:none; fill-opacity:1\" cx=\"2259.57\" cy=\"306.364\" r=\"14\"/>\n",
       "<circle clip-path=\"url(#clip2502)\" style=\"fill:#000000; stroke:none; fill-opacity:1\" cx=\"2037.32\" cy=\"255.454\" r=\"18\"/>\n",
       "<circle clip-path=\"url(#clip2502)\" style=\"fill:#3da44d; stroke:none; fill-opacity:1\" cx=\"2037.32\" cy=\"255.454\" r=\"14\"/>\n",
       "<circle clip-path=\"url(#clip2502)\" style=\"fill:#000000; stroke:none; fill-opacity:1\" cx=\"2053.19\" cy=\"293.637\" r=\"18\"/>\n",
       "<circle clip-path=\"url(#clip2502)\" style=\"fill:#3da44d; stroke:none; fill-opacity:1\" cx=\"2053.19\" cy=\"293.637\" r=\"14\"/>\n",
       "<circle clip-path=\"url(#clip2502)\" style=\"fill:#000000; stroke:none; fill-opacity:1\" cx=\"1989.69\" cy=\"306.364\" r=\"18\"/>\n",
       "<circle clip-path=\"url(#clip2502)\" style=\"fill:#3da44d; stroke:none; fill-opacity:1\" cx=\"1989.69\" cy=\"306.364\" r=\"14\"/>\n",
       "<circle clip-path=\"url(#clip2502)\" style=\"fill:#000000; stroke:none; fill-opacity:1\" cx=\"2132.57\" cy=\"293.637\" r=\"18\"/>\n",
       "<circle clip-path=\"url(#clip2502)\" style=\"fill:#3da44d; stroke:none; fill-opacity:1\" cx=\"2132.57\" cy=\"293.637\" r=\"14\"/>\n",
       "<circle clip-path=\"url(#clip2502)\" style=\"fill:#000000; stroke:none; fill-opacity:1\" cx=\"2100.82\" cy=\"293.637\" r=\"18\"/>\n",
       "<circle clip-path=\"url(#clip2502)\" style=\"fill:#3da44d; stroke:none; fill-opacity:1\" cx=\"2100.82\" cy=\"293.637\" r=\"14\"/>\n",
       "<circle clip-path=\"url(#clip2502)\" style=\"fill:#000000; stroke:none; fill-opacity:1\" cx=\"2132.57\" cy=\"293.637\" r=\"18\"/>\n",
       "<circle clip-path=\"url(#clip2502)\" style=\"fill:#3da44d; stroke:none; fill-opacity:1\" cx=\"2132.57\" cy=\"293.637\" r=\"14\"/>\n",
       "<circle clip-path=\"url(#clip2502)\" style=\"fill:#000000; stroke:none; fill-opacity:1\" cx=\"1957.94\" cy=\"344.547\" r=\"18\"/>\n",
       "<circle clip-path=\"url(#clip2502)\" style=\"fill:#3da44d; stroke:none; fill-opacity:1\" cx=\"1957.94\" cy=\"344.547\" r=\"14\"/>\n",
       "<circle clip-path=\"url(#clip2502)\" style=\"fill:#000000; stroke:none; fill-opacity:1\" cx=\"2116.69\" cy=\"280.909\" r=\"18\"/>\n",
       "<circle clip-path=\"url(#clip2502)\" style=\"fill:#3da44d; stroke:none; fill-opacity:1\" cx=\"2116.69\" cy=\"280.909\" r=\"14\"/>\n",
       "<circle clip-path=\"url(#clip2502)\" style=\"fill:#000000; stroke:none; fill-opacity:1\" cx=\"2100.82\" cy=\"268.182\" r=\"18\"/>\n",
       "<circle clip-path=\"url(#clip2502)\" style=\"fill:#3da44d; stroke:none; fill-opacity:1\" cx=\"2100.82\" cy=\"268.182\" r=\"14\"/>\n",
       "<circle clip-path=\"url(#clip2502)\" style=\"fill:#000000; stroke:none; fill-opacity:1\" cx=\"2100.82\" cy=\"306.364\" r=\"18\"/>\n",
       "<circle clip-path=\"url(#clip2502)\" style=\"fill:#3da44d; stroke:none; fill-opacity:1\" cx=\"2100.82\" cy=\"306.364\" r=\"14\"/>\n",
       "<circle clip-path=\"url(#clip2502)\" style=\"fill:#000000; stroke:none; fill-opacity:1\" cx=\"2037.32\" cy=\"370.002\" r=\"18\"/>\n",
       "<circle clip-path=\"url(#clip2502)\" style=\"fill:#3da44d; stroke:none; fill-opacity:1\" cx=\"2037.32\" cy=\"370.002\" r=\"14\"/>\n",
       "<circle clip-path=\"url(#clip2502)\" style=\"fill:#000000; stroke:none; fill-opacity:1\" cx=\"2069.07\" cy=\"306.364\" r=\"18\"/>\n",
       "<circle clip-path=\"url(#clip2502)\" style=\"fill:#3da44d; stroke:none; fill-opacity:1\" cx=\"2069.07\" cy=\"306.364\" r=\"14\"/>\n",
       "<circle clip-path=\"url(#clip2502)\" style=\"fill:#000000; stroke:none; fill-opacity:1\" cx=\"2021.44\" cy=\"255.454\" r=\"18\"/>\n",
       "<circle clip-path=\"url(#clip2502)\" style=\"fill:#3da44d; stroke:none; fill-opacity:1\" cx=\"2021.44\" cy=\"255.454\" r=\"14\"/>\n",
       "<circle clip-path=\"url(#clip2502)\" style=\"fill:#000000; stroke:none; fill-opacity:1\" cx=\"1973.82\" cy=\"306.364\" r=\"18\"/>\n",
       "<circle clip-path=\"url(#clip2502)\" style=\"fill:#3da44d; stroke:none; fill-opacity:1\" cx=\"1973.82\" cy=\"306.364\" r=\"14\"/>\n",
       "<path clip-path=\"url(#clip2500)\" d=\"\n",
       "M1663.53 372.684 L2280.76 372.684 L2280.76 130.764 L1663.53 130.764  Z\n",
       "  \" fill=\"#ffffff\" fill-rule=\"evenodd\" fill-opacity=\"1\"/>\n",
       "<polyline clip-path=\"url(#clip2500)\" style=\"stroke:#000000; stroke-width:4; stroke-opacity:1; fill:none\" points=\"\n",
       "  1663.53,372.684 2280.76,372.684 2280.76,130.764 1663.53,130.764 1663.53,372.684 \n",
       "  \"/>\n",
       "<polyline clip-path=\"url(#clip2500)\" style=\"stroke:#009af9; stroke-width:4; stroke-opacity:1; fill:none\" points=\"\n",
       "  1687.53,191.244 1831.53,191.244 \n",
       "  \"/>\n",
       "<g clip-path=\"url(#clip2500)\">\n",
       "<text style=\"fill:#000000; fill-opacity:1; font-family:Arial,Helvetica Neue,Helvetica,sans-serif; font-size:48px; text-anchor:start;\" transform=\"rotate(0, 1855.53, 208.744)\" x=\"1855.53\" y=\"208.744\">learned seperator</text>\n",
       "</g>\n",
       "<circle clip-path=\"url(#clip2500)\" style=\"fill:#000000; stroke:none; fill-opacity:1\" cx=\"1771.53\" cy=\"251.724\" r=\"25\"/>\n",
       "<circle clip-path=\"url(#clip2500)\" style=\"fill:#e26f46; stroke:none; fill-opacity:1\" cx=\"1771.53\" cy=\"251.724\" r=\"21\"/>\n",
       "<g clip-path=\"url(#clip2500)\">\n",
       "<text style=\"fill:#000000; fill-opacity:1; font-family:Arial,Helvetica Neue,Helvetica,sans-serif; font-size:48px; text-anchor:start;\" transform=\"rotate(0, 1855.53, 269.224)\" x=\"1855.53\" y=\"269.224\">setosa</text>\n",
       "</g>\n",
       "<circle clip-path=\"url(#clip2500)\" style=\"fill:#000000; stroke:none; fill-opacity:1\" cx=\"1771.53\" cy=\"312.204\" r=\"25\"/>\n",
       "<circle clip-path=\"url(#clip2500)\" style=\"fill:#3da44d; stroke:none; fill-opacity:1\" cx=\"1771.53\" cy=\"312.204\" r=\"21\"/>\n",
       "<g clip-path=\"url(#clip2500)\">\n",
       "<text style=\"fill:#000000; fill-opacity:1; font-family:Arial,Helvetica Neue,Helvetica,sans-serif; font-size:48px; text-anchor:start;\" transform=\"rotate(0, 1855.53, 329.704)\" x=\"1855.53\" y=\"329.704\">versicolor</text>\n",
       "</g>\n",
       "</svg>\n"
      ]
     },
     "execution_count": 43,
     "metadata": {},
     "output_type": "execute_result"
    }
   ],
   "source": [
    "scatter!([x[1:2] for x in data if x[3]==\"setosa\"],label = \"setosa\")\n",
    "scatter!([x[1:2] for x in data if x[3]!=\"setosa\"],label = \"versicolor\")                "
   ]
  },
  {
   "cell_type": "code",
   "execution_count": 44,
   "metadata": {
    "scrolled": true
   },
   "outputs": [
    {
     "ename": "BoundsError",
     "evalue": "BoundsError: attempt to access 1-element Array{Float64,1} at index [2]",
     "output_type": "error",
     "traceback": [
      "BoundsError: attempt to access 1-element Array{Float64,1} at index [2]",
      "",
      "Stacktrace:",
      " [1] getindex(::Array{Float64,1}, ::Int64) at .\\array.jl:744",
      " [2] (::var\"#23#24\")(::Float64) at .\\In[44]:1",
      " [3] (::Base.var\"#56#57\"{Plots.var\"#105#106\"{Symbol},var\"#23#24\"})(::Float64) at .\\operators.jl:873 (repeats 2 times)",
      " [4] (::PlotUtils.var\"#28#30\"{Base.var\"#56#57\"{Base.var\"#56#57\"{Plots.var\"#105#106\"{Symbol},var\"#23#24\"},Plots.var\"#107#108\"{Symbol}}})(::Float64) at C:\\Users\\PKchu\\.julia\\packages\\PlotUtils\\10ojB\\src\\adapted_grid.jl:48",
      " [5] _broadcast_getindex_evalf at .\\broadcast.jl:630 [inlined]",
      " [6] _broadcast_getindex at .\\broadcast.jl:603 [inlined]",
      " [7] getindex at .\\broadcast.jl:563 [inlined]",
      " [8] copy at .\\broadcast.jl:853 [inlined]",
      " [9] materialize at .\\broadcast.jl:819 [inlined]",
      " [10] #adapted_grid#27(::Int64, ::typeof(adapted_grid), ::Base.var\"#56#57\"{Base.var\"#56#57\"{Plots.var\"#105#106\"{Symbol},var\"#23#24\"},Plots.var\"#107#108\"{Symbol}}, ::Tuple{Float64,Float64}) at C:\\Users\\PKchu\\.julia\\packages\\PlotUtils\\10ojB\\src\\adapted_grid.jl:59",
      " [11] adapted_grid(::Function, ::Tuple{Float64,Float64}) at C:\\Users\\PKchu\\.julia\\packages\\PlotUtils\\10ojB\\src\\adapted_grid.jl:15",
      " [12] _scaled_adapted_grid(::Function, ::Symbol, ::Symbol, ::Float64, ::Float64) at C:\\Users\\PKchu\\.julia\\packages\\Plots\\qZHsp\\src\\series.jl:539",
      " [13] macro expansion at C:\\Users\\PKchu\\.julia\\packages\\Plots\\qZHsp\\src\\series.jl:522 [inlined]",
      " [14] apply_recipe(::Dict{Symbol,Any}, ::Function, ::Float64, ::Float64) at C:\\Users\\PKchu\\.julia\\packages\\RecipesBase\\zBoFG\\src\\RecipesBase.jl:275",
      " [15] _process_userrecipes(::Plots.Plot{Plots.GRBackend}, ::Dict{Symbol,Any}, ::Tuple{var\"#23#24\"}) at C:\\Users\\PKchu\\.julia\\packages\\Plots\\qZHsp\\src\\pipeline.jl:83",
      " [16] _plot!(::Plots.Plot{Plots.GRBackend}, ::Dict{Symbol,Any}, ::Tuple{var\"#23#24\"}) at C:\\Users\\PKchu\\.julia\\packages\\Plots\\qZHsp\\src\\plot.jl:178",
      " [17] #plot!#143(::Base.Iterators.Pairs{Symbol,String,Tuple{Symbol},NamedTuple{(:label,),Tuple{String}}}, ::typeof(plot!), ::Plots.Plot{Plots.GRBackend}, ::Function) at C:\\Users\\PKchu\\.julia\\packages\\Plots\\qZHsp\\src\\plot.jl:158",
      " [18] (::RecipesBase.var\"#kw##plot!\")(::NamedTuple{(:label,),Tuple{String}}, ::typeof(plot!), ::Plots.Plot{Plots.GRBackend}, ::Function) at .\\none:0",
      " [19] #plot!#142(::Base.Iterators.Pairs{Symbol,String,Tuple{Symbol},NamedTuple{(:label,),Tuple{String}}}, ::typeof(plot!), ::Function) at C:\\Users\\PKchu\\.julia\\packages\\Plots\\qZHsp\\src\\plot.jl:150",
      " [20] (::RecipesBase.var\"#kw##plot!\")(::NamedTuple{(:label,),Tuple{String}}, ::typeof(plot!), ::Function) at .\\none:0",
      " [21] top-level scope at In[44]:1"
     ]
    }
   ],
   "source": [
    "plot!(x -> (-weights[1]-weights[2]*x)/weights[3], label = \"learned seperator\")"
   ]
  },
  {
   "cell_type": "code",
   "execution_count": null,
   "metadata": {},
   "outputs": [],
   "source": []
  }
 ],
 "metadata": {
  "kernelspec": {
   "display_name": "Julia 1.3.1",
   "language": "julia",
   "name": "julia-1.3"
  },
  "language_info": {
   "file_extension": ".jl",
   "mimetype": "application/julia",
   "name": "julia",
   "version": "1.3.1"
  }
 },
 "nbformat": 4,
 "nbformat_minor": 2
}
